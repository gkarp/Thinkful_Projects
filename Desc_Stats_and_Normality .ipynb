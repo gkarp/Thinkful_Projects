{
 "cells": [
  {
   "cell_type": "code",
   "execution_count": 1,
   "metadata": {},
   "outputs": [],
   "source": [
    "import numpy as np\n",
    "import pandas as pd\n",
    "import matplotlib.pyplot as plt\n",
    "%matplotlib inline"
   ]
  },
  {
   "cell_type": "markdown",
   "metadata": {},
   "source": [
    "To complete the following drills, you'll need to use your Python skills to create some datasets, then use your new statistical knowledge to summarize them. Choose 6 distributions from the list of random distributions available in NumPy, called “Distributions”\n",
    "\n",
    "For each distribution:\n",
    "\n",
    "    Generate a random variable with 100 datapoints using the code distributionvar = np.random.distributionname([arguments], 100), replacing distributionvar with an appropriate variable name and distributionname with the name of the distribution you’ve chosen, and filling in the empty space in the parentheses with your chosen values for the appropriate parameters. If you feel uncertain about how to do this, go back to the “Other Distributions” assignment for examples of code to use as a starting point.\n",
    "    Graph the variable using a histogram.\n",
    "    Compute the mean and standard deviation and plot them as vertical lines on the histogram. (Hint: the “When Does It Break?” assignment you just completed can help you here.)\n",
    "    Evaluate whether the descriptive statistics provided useful information about the variable. Can you identify any common characteristics of the distributions that could be usefully described using the mean and/or standard deviation, versus the ones that could not?\n",
    "\n",
    "Additionally:\n",
    "\n",
    "    Generate two normally-distributed variables, one with a mean of 5 and standard deviation of 0.5, and the other with a mean of 10 and standard deviation of 1.\n",
    "    Add them together to create a third variable.\n",
    "    Graph the third variable using a histogram.\n",
    "    Compute the mean and standard deviation and plot them as vertical lines on the histogram.\n",
    "    Evaluate the descriptive statistics against the data.\n",
    "\n"
   ]
  },
  {
   "cell_type": "markdown",
   "metadata": {},
   "source": [
    "**Plot a histogram for rand1.**\n",
    "\n",
    "plt.hist(rand1, bins=20, color='c')\n",
    "\n",
    "**Add a vertical line at the mean.**\n",
    "\n",
    "plt.axvline(rand1.mean(), color='b', linestyle='solid', linewidth=2)\n",
    "\n",
    "**Add a vertical line at one standard deviation above the mean.**\n",
    "\n",
    "plt.axvline(rand1.mean() + rand1.std(), color='b', linestyle='dashed', linewidth=2)\n",
    "\n",
    "**Add a vertical line at one standard deviation below the mean.**\n",
    "\n",
    "plt.axvline(rand1.mean()-rand1.std(), color='b', linestyle='dashed', linewidth=2) \n",
    "\n",
    "**Print the histogram.**\n",
    "\n",
    "plt.show()"
   ]
  },
  {
   "cell_type": "code",
   "execution_count": null,
   "metadata": {},
   "outputs": [],
   "source": [
    "mean = 0 \n",
    "sd = 1\n",
    "n = 1000\n",
    "\n",
    "df = pd.DataFrame({'rand': np.random.normal(mean, sd, 1000)})\n",
    "\n",
    "# Plotting the variables in the data frame (here, just the variable \"rand\") as a histogram.\n",
    "df.hist()\n",
    "# Inline printing the histogram\n",
    "plt.show()"
   ]
  },
  {
   "cell_type": "markdown",
   "metadata": {},
   "source": [
    "### Rayleigh Distribution"
   ]
  },
  {
   "cell_type": "code",
   "execution_count": 36,
   "metadata": {},
   "outputs": [
    {
     "name": "stdout",
     "output_type": "stream",
     "text": [
      "Mean: 1.2916629261903163 \n",
      "Standard deviation: 0.6457981157894133\n"
     ]
    }
   ],
   "source": [
    "ray_dstr = np.random.rayleigh(1, 100)\n",
    "ray_df = pd.DataFrame({'Rayleigh': ray_dstr})\n",
    "ray_dstr_mean, ray_dstr_std = ray_dstr.mean(), ray_dstr.std()\n",
    "print(\"Mean: {} \\nStandard deviation: {}\".format(ray_dstr_mean, ray_dstr_std))"
   ]
  },
  {
   "cell_type": "code",
   "execution_count": 47,
   "metadata": {},
   "outputs": [
    {
     "data": {
      "image/png": "[encoded data removed]",
      "text/plain": [
       "<matplotlib.figure.Figure at 0x22ee3d04e48>"
      ]
     },
     "metadata": {},
     "output_type": "display_data"
    }
   ],
   "source": [
    "ray_df.hist(alpha=0.8, color='teal', bins=20)\n",
    "plt.axvline(ray_dstr_mean, color='b', linestyle='solid', linewidth=2)\n",
    "plt.axvline(ray_dstr_mean - ray_dstr_std, color='b', linestyle='dashed', linewidth=2)\n",
    "plt.axvline(ray_dstr_mean + ray_dstr_std, color='b', linestyle='dashed', linewidth=2)\n",
    "plt.show()"
   ]
  },
  {
   "cell_type": "markdown",
   "metadata": {},
   "source": [
    "##### Rayleigh Distribution - Analysis \n",
    "The Rayleigh distribution cannot be clearly described using mean and standard deviation. The shape of the distribution is not symmetrical."
   ]
  },
  {
   "cell_type": "markdown",
   "metadata": {},
   "source": [
    "### Standard Cauchy Distribution"
   ]
  },
  {
   "cell_type": "code",
   "execution_count": 86,
   "metadata": {},
   "outputs": [
    {
     "name": "stdout",
     "output_type": "stream",
     "text": [
      "Mean: -1.5789896816217004 \n",
      "Standard deviation: 10.20793844876825\n",
      "Max: 35.154305011447875\n",
      "Min: -66.13870276470571\n"
     ]
    }
   ],
   "source": [
    "stdcauchy_dstr = np.random.standard_cauchy(100)\n",
    "stdcauchy_df = pd.DataFrame({'Standard Cauchy': stdcauchy_dstr})\n",
    "stdcauchy_mean, stdcauchy_std, stdcauchy_max, stdcauchy_min = stdcauchy_dstr.mean(), stdcauchy_dstr.std(), stdcauchy_dstr.max(), stdcauchy_dstr.min()\n",
    "print(\"Mean: {} \\nStandard deviation: {}\\nMax: {}\\nMin: {}\".format(stdcauchy_mean, stdcauchy_std, stdcauchy_max, stdcauchy_min))"
   ]
  },
  {
   "cell_type": "code",
   "execution_count": 87,
   "metadata": {},
   "outputs": [
    {
     "data": {
      "image/png": "[encoded data removed]",
      "text/plain": [
       "<matplotlib.figure.Figure at 0x22ee3c8b7b8>"
      ]
     },
     "metadata": {},
     "output_type": "display_data"
    }
   ],
   "source": [
    "stdcauchy_df.hist(alpha=0.8, color='teal', bins=30)\n",
    "plt.axvline(stdcauchy_mean, color='b', linestyle='solid', linewidth=2)\n",
    "plt.axvline(stdcauchy_mean - stdcauchy_std, color='b', linestyle='dashed', linewidth=2)\n",
    "plt.axvline(stdcauchy_mean + stdcauchy_std, color='b', linestyle='dashed', linewidth=2)\n",
    "plt.show()"
   ]
  },
  {
   "cell_type": "markdown",
   "metadata": {},
   "source": [
    "##### Standard Cauchy Distribution - Analysis \n",
    "The Standard Cauchy distribution cannot be clearly described using mean and standard deviation. The standard deviation does not show how closely most of the data is clustered around the mean. Extreme outliers seem to distort the standard deviation."
   ]
  },
  {
   "cell_type": "markdown",
   "metadata": {},
   "source": [
    "### Distribtuion #3"
   ]
  },
  {
   "cell_type": "code",
   "execution_count": 90,
   "metadata": {},
   "outputs": [
    {
     "name": "stdout",
     "output_type": "stream",
     "text": [
      "Mean: 1.1693916039541787 \n",
      "Standard deviation: 1.03585620992413\n"
     ]
    }
   ],
   "source": [
    "exp_dstr = np.random.exponential(1, 100)\n",
    "exp_df = pd.DataFrame({'Exponential': exp_dstr})\n",
    "exp_mean, exp_std = exp_dstr.mean(), exp_dstr.std()\n",
    "print(\"Mean: {} \\nStandard deviation: {}\".format(exp_mean, exp_std))"
   ]
  },
  {
   "cell_type": "code",
   "execution_count": 91,
   "metadata": {},
   "outputs": [
    {
     "data": {
      "image/png": "[encoded data removed]",
      "text/plain": [
       "<matplotlib.figure.Figure at 0x22ee53398d0>"
      ]
     },
     "metadata": {},
     "output_type": "display_data"
    }
   ],
   "source": [
    "exp_df.hist(alpha=0.8, color='teal', bins=20)\n",
    "plt.axvline(exp_mean, color='b', linestyle='solid', linewidth=2)\n",
    "plt.axvline(exp_mean - exp_std, color='b', linestyle='dashed', linewidth=2)\n",
    "plt.axvline(exp_mean + exp_std, color='b', linestyle='dashed', linewidth=2)\n",
    "plt.show()"
   ]
  },
  {
   "cell_type": "markdown",
   "metadata": {},
   "source": [
    "##### tbd Distribution - Analysis \n",
    "The tbd distribution cannot be clearly described using mean and standard deviation. The shape of the distribution is not symmetrical."
   ]
  },
  {
   "cell_type": "markdown",
   "metadata": {},
   "source": [
    "### Distribtution #4"
   ]
  },
  {
   "cell_type": "code",
   "execution_count": null,
   "metadata": {},
   "outputs": [],
   "source": []
  },
  {
   "cell_type": "code",
   "execution_count": null,
   "metadata": {},
   "outputs": [],
   "source": []
  },
  {
   "cell_type": "code",
   "execution_count": null,
   "metadata": {},
   "outputs": [],
   "source": []
  },
  {
   "cell_type": "markdown",
   "metadata": {},
   "source": [
    "### Distribution #5"
   ]
  },
  {
   "cell_type": "code",
   "execution_count": null,
   "metadata": {},
   "outputs": [],
   "source": []
  },
  {
   "cell_type": "code",
   "execution_count": null,
   "metadata": {},
   "outputs": [],
   "source": []
  },
  {
   "cell_type": "code",
   "execution_count": null,
   "metadata": {},
   "outputs": [],
   "source": []
  },
  {
   "cell_type": "markdown",
   "metadata": {},
   "source": [
    "### Distribution #6"
   ]
  },
  {
   "cell_type": "code",
   "execution_count": null,
   "metadata": {},
   "outputs": [],
   "source": []
  },
  {
   "cell_type": "code",
   "execution_count": null,
   "metadata": {},
   "outputs": [],
   "source": []
  },
  {
   "cell_type": "code",
   "execution_count": null,
   "metadata": {},
   "outputs": [],
   "source": []
  }
 ],
 "metadata": {
  "kernelspec": {
   "display_name": "Python 3",
   "language": "python",
   "name": "python3"
  },
  "language_info": {
   "codemirror_mode": {
    "name": "ipython",
    "version": 3
   },
   "file_extension": ".py",
   "mimetype": "text/x-python",
   "name": "python",
   "nbconvert_exporter": "python",
   "pygments_lexer": "ipython3",
   "version": "3.6.2"
  }
 },
 "nbformat": 4,
 "nbformat_minor": 2
}
