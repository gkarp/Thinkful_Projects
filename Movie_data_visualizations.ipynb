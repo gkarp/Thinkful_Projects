{
 "cells": [
  {
   "cell_type": "code",
   "execution_count": 2,
   "metadata": {},
   "outputs": [],
   "source": [
    "import pandas as pd\n",
    "import numpy as np\n",
    "import matplotlib.pyplot as plt\n",
    "%matplotlib inline "
   ]
  },
  {
   "cell_type": "markdown",
   "metadata": {},
   "source": [
    "#### About the dataset \n",
    "\n",
    "This dataset was provided by Kaggle.com, with data sourced from [The Movie Database (TMDb)](https://www.themoviedb.org/?language=en). It contains information submitted by TMDb users on approximately 5000 movies. The data is split into two csv files, one for meta information describing the movies and the other for the casts of the movies. Kaggle link to the dataset can be found here: https://www.kaggle.com/tmdb/tmdb-movie-metadata "
   ]
  },
  {
   "cell_type": "markdown",
   "metadata": {},
   "source": [
    "### _Visual #1_: Movie Releases by Month"
   ]
  },
  {
   "cell_type": "code",
   "execution_count": 3,
   "metadata": {},
   "outputs": [],
   "source": [
    "movies_df = pd.read_csv('tmdb_5000_movies.csv')"
   ]
  },
  {
   "cell_type": "code",
   "execution_count": 4,
   "metadata": {},
   "outputs": [],
   "source": [
    "release_date_split =movies_df['release_date'].str.split(pat='-', expand=True).copy()"
   ]
  },
  {
   "cell_type": "code",
   "execution_count": 5,
   "metadata": {},
   "outputs": [],
   "source": [
    "month_group = pd.DataFrame(release_date_split.groupby([1]).count()[0])"
   ]
  },
  {
   "cell_type": "code",
   "execution_count": 6,
   "metadata": {},
   "outputs": [],
   "source": [
    "month_text_map = dict([\n",
    "    ('01', 'January'),\n",
    "    ('02', 'February'),\n",
    "    ('03', ' March'),\n",
    "    ('04', 'April'),\n",
    "    ('05', 'May'),\n",
    "    ('06', 'June'),\n",
    "    ('07', 'July'),\n",
    "    ('08', 'August'),\n",
    "    ('09', 'September'),\n",
    "    ('10', 'October'),\n",
    "    ('11', 'November'),\n",
    "    ('12', 'December')\n",
    "])   "
   ]
  },
  {
   "cell_type": "code",
   "execution_count": 7,
   "metadata": {},
   "outputs": [],
   "source": [
    "#x = month_group.index.to_series().sort_values().map(month_text_map)\n",
    "x = month_group.index.to_series()"
   ]
  },
  {
   "cell_type": "code",
   "execution_count": 8,
   "metadata": {},
   "outputs": [
    {
     "data": {
      "image/png": "[encoded data removed]",
      "text/plain": [
       "<matplotlib.figure.Figure at 0x84e8d10>"
      ]
     },
     "metadata": {},
     "output_type": "display_data"
    }
   ],
   "source": [
    "plt.figure(figsize=(10, 5))\n",
    "plt.bar(x, month_group[0], alpha=0.8, color='teal')\n",
    "plt.xticks(month_group.index, x.map(month_text_map), rotation=34)\n",
    "plt.xlabel('Months')\n",
    "plt.ylabel('Releases')\n",
    "plt.title('Movie Releases by Month')\n",
    "plt.show()"
   ]
  },
  {
   "cell_type": "markdown",
   "metadata": {},
   "source": [
    "#### Movie Releases by Month - Analysis\n",
    "\n",
    "The above bar chart shows the number of movies released by month. The most popular month to release a movie is far and away September, garning over 100 more releases than second place October or third place December, which differ by only 18 movies. Further exploratory analysis could investigate whether certain months are more profitable than others, or whether certain studios target different months than others. "
   ]
  },
  {
   "cell_type": "markdown",
   "metadata": {},
   "source": [
    "***"
   ]
  },
  {
   "cell_type": "markdown",
   "metadata": {},
   "source": [
    "### _Visual #2_: Movie Runtimes"
   ]
  },
  {
   "cell_type": "code",
   "execution_count": 9,
   "metadata": {},
   "outputs": [],
   "source": [
    "# Filter out movies that are 0 minutes long\n",
    "runtime_data = movies_df.loc[movies_df['runtime'] > 0]['runtime'].copy()"
   ]
  },
  {
   "cell_type": "code",
   "execution_count": 10,
   "metadata": {},
   "outputs": [
    {
     "data": {
      "image/png": "[encoded data removed]",
      "text/plain": [
       "<matplotlib.figure.Figure at 0x84e8c50>"
      ]
     },
     "metadata": {},
     "output_type": "display_data"
    }
   ],
   "source": [
    "plt.figure(figsize=(10, 5))\n",
    "plt.hist(runtime_data, bins=np.arange(np.min(runtime_data), \n",
    "                                      np.max(runtime_data) + 30, 30),\n",
    "                                      color='salmon', alpha=0.8)\n",
    "plt.xticks(np.arange(0, np.max(runtime_data)+1, 30.0))\n",
    "plt.xlabel('Runtime in Minutes')\n",
    "plt.ylabel('Number of Movies')\n",
    "plt.title('Distribution of Movie Runtimes')\n",
    "plt.show()"
   ]
  },
  {
   "cell_type": "markdown",
   "metadata": {},
   "source": [
    "#### Movie Runtimes - Analysis\n",
    "The above Histogram illustrates the distribution of movie runtimes. The chart illustrates a left-skewed distribution, with most movies falling into the 90 - 120 minute bin with the second largest group failling between 120 - 150 minutes. \n",
    "\n",
    "Further analysis could compare the distribution of different runtimes subdivided by genre to investigate if certain genres tend to run longer than others. Another avenue of analysis is to assess the average runtime of movies by year, to identify possible trends in movie length. "
   ]
  },
  {
   "cell_type": "markdown",
   "metadata": {},
   "source": [
    "---"
   ]
  },
  {
   "cell_type": "markdown",
   "metadata": {},
   "source": [
    "### _Visual #3_: Budget versus Profit"
   ]
  },
  {
   "cell_type": "code",
   "execution_count": 11,
   "metadata": {},
   "outputs": [],
   "source": [
    "profit_data_df = movies_df.copy()\n",
    "profit_data_df['profit'] = profit_data_df['revenue'] - profit_data_df['budget']\n",
    "\n",
    "# Clean data to remove movies with 0 budget.\n",
    "# Assumption: The budget in this dataset refers to the costs for producing \n",
    "# the movie, and you can't make a movie for free.\n",
    "profit_data_df = profit_data_df.loc[profit_data_df['budget'] > 0]\n"
   ]
  },
  {
   "cell_type": "code",
   "execution_count": 12,
   "metadata": {},
   "outputs": [],
   "source": [
    "#Taking the log of budget to scale it to profit percentage and to account for the extremely large budgets some movies have.\n",
    "profit_data_df['log_budget'] = np.log(profit_data_df['budget'])"
   ]
  },
  {
   "cell_type": "code",
   "execution_count": 13,
   "metadata": {},
   "outputs": [],
   "source": [
    "# Replace negative infinity with 0. Because the log of a movie with zero budget is negative infinity.\n",
    "profit_data_df['log_budget'] = profit_data_df['log_budget'].replace((np.inf * -1), 0)"
   ]
  },
  {
   "cell_type": "code",
   "execution_count": 14,
   "metadata": {},
   "outputs": [
    {
     "name": "stderr",
     "output_type": "stream",
     "text": [
      "c:\\users\\greg\\appdata\\local\\programs\\python\\python36-32\\lib\\site-packages\\ipykernel_launcher.py:1: RuntimeWarning: divide by zero encountered in log\n",
      "  \"\"\"Entry point for launching an IPython kernel.\n",
      "c:\\users\\greg\\appdata\\local\\programs\\python\\python36-32\\lib\\site-packages\\ipykernel_launcher.py:1: RuntimeWarning: invalid value encountered in log\n",
      "  \"\"\"Entry point for launching an IPython kernel.\n"
     ]
    }
   ],
   "source": [
    "profit_data_df['log_profit'] = np.log(profit_data_df['profit'])\n",
    "profit_data_df['log_profit'] = profit_data_df['log_profit'].replace((np.inf * -1), 0)"
   ]
  },
  {
   "cell_type": "code",
   "execution_count": 15,
   "metadata": {},
   "outputs": [
    {
     "data": {
      "image/png": "[encoded data removed]",
      "text/plain": [
       "<matplotlib.figure.Figure at 0x8506410>"
      ]
     },
     "metadata": {},
     "output_type": "display_data"
    }
   ],
   "source": [
    "plt.figure(figsize=(10, 5))\n",
    "plt.scatter(profit_data_df['log_budget'], profit_data_df['log_profit'], \n",
    "            marker='.', s=16)\n",
    "plt.title('Profit versus Budget in the TMDb')\n",
    "plt.xlabel('Budget')\n",
    "plt.ylabel('Profit')\n",
    "plt.show()"
   ]
  },
  {
   "cell_type": "markdown",
   "metadata": {},
   "source": [
    "#### Budget versus Profit: Analysis\n",
    "\n",
    "The above scatterplot displays the log of profit versus the log of budget. While it does not illustrate the true ROI of these movies, the chart does seem to suggest that there is a positive relationship between budget and profit, meaning that the higher a movie's budget, the higher its revenue and profit (although this conculusion has not been verifired statistically).\n",
    "\n",
    "Further analysis could investigate potential underlying causal variables driving profit. For example, an analysis of cast data could see if certain actors and actresses correlate to higher revenue. Alternatively, another analysis could investigate trends in both budgets and ROI over time to investigate if movies are relying increasing budgets to attract viewers. "
   ]
  },
  {
   "cell_type": "markdown",
   "metadata": {},
   "source": [
    "---"
   ]
  },
  {
   "cell_type": "markdown",
   "metadata": {},
   "source": [
    "### _Visual #4_: Language Trends"
   ]
  },
  {
   "cell_type": "code",
   "execution_count": 85,
   "metadata": {},
   "outputs": [],
   "source": [
    "language_df = movies_df[['release_date','original_language']].copy()\n",
    "language_df['release_year'] = release_date_split[0]\n",
    "language_df['english'] = language_df['original_language'] == 'en'\n",
    "language_df['not_english'] = language_df['original_language'] != 'en'"
   ]
  },
  {
   "cell_type": "code",
   "execution_count": 86,
   "metadata": {},
   "outputs": [],
   "source": [
    "language_df2 = language_df[['release_year', 'english', 'not_english']]"
   ]
  },
  {
   "cell_type": "code",
   "execution_count": 87,
   "metadata": {},
   "outputs": [
    {
     "data": {
      "text/html": [
       "<div>\n",
       "<style scoped>\n",
       "    .dataframe tbody tr th:only-of-type {\n",
       "        vertical-align: middle;\n",
       "    }\n",
       "\n",
       "    .dataframe tbody tr th {\n",
       "        vertical-align: top;\n",
       "    }\n",
       "\n",
       "    .dataframe thead th {\n",
       "        text-align: right;\n",
       "    }\n",
       "</style>\n",
       "<table border=\"1\" class=\"dataframe\">\n",
       "  <thead>\n",
       "    <tr style=\"text-align: right;\">\n",
       "      <th></th>\n",
       "      <th>release_year</th>\n",
       "      <th>english</th>\n",
       "      <th>not_english</th>\n",
       "    </tr>\n",
       "  </thead>\n",
       "  <tbody>\n",
       "    <tr>\n",
       "      <th>0</th>\n",
       "      <td>2009</td>\n",
       "      <td>True</td>\n",
       "      <td>False</td>\n",
       "    </tr>\n",
       "    <tr>\n",
       "      <th>1</th>\n",
       "      <td>2007</td>\n",
       "      <td>True</td>\n",
       "      <td>False</td>\n",
       "    </tr>\n",
       "    <tr>\n",
       "      <th>2</th>\n",
       "      <td>2015</td>\n",
       "      <td>True</td>\n",
       "      <td>False</td>\n",
       "    </tr>\n",
       "    <tr>\n",
       "      <th>3</th>\n",
       "      <td>2012</td>\n",
       "      <td>True</td>\n",
       "      <td>False</td>\n",
       "    </tr>\n",
       "    <tr>\n",
       "      <th>4</th>\n",
       "      <td>2012</td>\n",
       "      <td>True</td>\n",
       "      <td>False</td>\n",
       "    </tr>\n",
       "  </tbody>\n",
       "</table>\n",
       "</div>"
      ],
      "text/plain": [
       "  release_year  english  not_english\n",
       "0         2009     True        False\n",
       "1         2007     True        False\n",
       "2         2015     True        False\n",
       "3         2012     True        False\n",
       "4         2012     True        False"
      ]
     },
     "execution_count": 87,
     "metadata": {},
     "output_type": "execute_result"
    }
   ],
   "source": [
    "language_df2.head(5)"
   ]
  },
  {
   "cell_type": "code",
   "execution_count": 88,
   "metadata": {},
   "outputs": [
    {
     "data": {
      "text/html": [
       "<div>\n",
       "<style scoped>\n",
       "    .dataframe tbody tr th:only-of-type {\n",
       "        vertical-align: middle;\n",
       "    }\n",
       "\n",
       "    .dataframe tbody tr th {\n",
       "        vertical-align: top;\n",
       "    }\n",
       "\n",
       "    .dataframe thead th {\n",
       "        text-align: right;\n",
       "    }\n",
       "</style>\n",
       "<table border=\"1\" class=\"dataframe\">\n",
       "  <thead>\n",
       "    <tr style=\"text-align: right;\">\n",
       "      <th></th>\n",
       "      <th>english</th>\n",
       "      <th>not_english</th>\n",
       "    </tr>\n",
       "    <tr>\n",
       "      <th>release_year</th>\n",
       "      <th></th>\n",
       "      <th></th>\n",
       "    </tr>\n",
       "  </thead>\n",
       "  <tbody>\n",
       "    <tr>\n",
       "      <th>1916</th>\n",
       "      <td>1.0</td>\n",
       "      <td>0.0</td>\n",
       "    </tr>\n",
       "    <tr>\n",
       "      <th>1925</th>\n",
       "      <td>1.0</td>\n",
       "      <td>0.0</td>\n",
       "    </tr>\n",
       "    <tr>\n",
       "      <th>1927</th>\n",
       "      <td>0.0</td>\n",
       "      <td>1.0</td>\n",
       "    </tr>\n",
       "    <tr>\n",
       "      <th>1929</th>\n",
       "      <td>1.0</td>\n",
       "      <td>1.0</td>\n",
       "    </tr>\n",
       "    <tr>\n",
       "      <th>1930</th>\n",
       "      <td>1.0</td>\n",
       "      <td>0.0</td>\n",
       "    </tr>\n",
       "  </tbody>\n",
       "</table>\n",
       "</div>"
      ],
      "text/plain": [
       "              english  not_english\n",
       "release_year                      \n",
       "1916              1.0          0.0\n",
       "1925              1.0          0.0\n",
       "1927              0.0          1.0\n",
       "1929              1.0          1.0\n",
       "1930              1.0          0.0"
      ]
     },
     "execution_count": 88,
     "metadata": {},
     "output_type": "execute_result"
    }
   ],
   "source": [
    "pivoted = pd.pivot_table(language_df2, index='release_year', aggfunc=np.sum)\n",
    "pivoted.head(5)"
   ]
  },
  {
   "cell_type": "code",
   "execution_count": 89,
   "metadata": {},
   "outputs": [],
   "source": [
    "pivoted.index = pivoted.index.map(int)"
   ]
  },
  {
   "cell_type": "code",
   "execution_count": 90,
   "metadata": {},
   "outputs": [
    {
     "data": {
      "text/plain": [
       "Int64Index([1916, 1925, 1927, 1929, 1930, 1932, 1933, 1934, 1935, 1936, 1937,\n",
       "            1938, 1939, 1940, 1941, 1942, 1944, 1945, 1946, 1947, 1948, 1949,\n",
       "            1950, 1951, 1952, 1953, 1954, 1955, 1956, 1957, 1958, 1959, 1960,\n",
       "            1961, 1962, 1963, 1964, 1965, 1966, 1967, 1968, 1969, 1970, 1971,\n",
       "            1972, 1973, 1974, 1975, 1976, 1977, 1978, 1979, 1980, 1981, 1982,\n",
       "            1983, 1984, 1985, 1986, 1987, 1988, 1989, 1990, 1991, 1992, 1993,\n",
       "            1994, 1995, 1996, 1997, 1998, 1999, 2000, 2001, 2002, 2003, 2004,\n",
       "            2005, 2006, 2007, 2008, 2009, 2010, 2011, 2012, 2013, 2014, 2015,\n",
       "            2016, 2017],\n",
       "           dtype='int64', name='release_year')"
      ]
     },
     "execution_count": 90,
     "metadata": {},
     "output_type": "execute_result"
    }
   ],
   "source": [
    "pivoted.index"
   ]
  },
  {
   "cell_type": "code",
   "execution_count": 110,
   "metadata": {
    "scrolled": true
   },
   "outputs": [
    {
     "data": {
      "image/png": "[encoded data removed]",
      "text/plain": [
       "<matplotlib.figure.Figure at 0x86177f0>"
      ]
     },
     "metadata": {},
     "output_type": "display_data"
    }
   ],
   "source": [
    "plt.figure(figsize=(10, 5))\n",
    "\n",
    "plt.subplot(1, 2, 1)\n",
    "plt.plot(pivoted['english'], color='purple')\n",
    "plt.ylabel('Movies Released Annually')\n",
    "\n",
    "# Due to incomplete data in the years 2016 and 2017, there is a much lower \n",
    "# number of movies in the dataset for those years, so those years have beem\n",
    "# removed from the chart. \n",
    "plt.xlim(xmax=2015)\n",
    "\n",
    "plt.yticks(np.arange(0, pivoted['english'].max() + 50, 50))\n",
    "plt.title('English Movies')\n",
    "\n",
    "plt.subplot(1, 2, 2)\n",
    "plt.plot(pivoted['not_english'], color='green')\n",
    "plt.ylabel('Movies Released Annually')\n",
    "plt.title('Non English Movies')\n",
    "plt.xlim(xmax=2015)\n",
    "plt.yticks(np.arange(0, pivoted['english'].max() + 50, 50))\n",
    "plt.show()"
   ]
  },
  {
   "cell_type": "markdown",
   "metadata": {},
   "source": [
    "#### Language Trends: Analysis\n",
    "\n",
    "The two line charts illustrate a trend of increasing number of movies released in both english and other languages each year within the data contained in the TMDb. A cursory look at the data suggests that non-english movies have not grown at the same rate as english movies. \n",
    "\n",
    "Further statistical analysis could confirm that the proportion of movies without English as the original language is actually decreasing. More analysis could investigate if the same trend exists in the languages spoken within movies, to determine if english-speaking movie makers are catering to a broader global audience. "
   ]
  },
  {
   "cell_type": "markdown",
   "metadata": {},
   "source": [
    "---"
   ]
  }
 ],
 "metadata": {
  "kernelspec": {
   "display_name": "Python 3",
   "language": "python",
   "name": "python3"
  },
  "language_info": {
   "codemirror_mode": {
    "name": "ipython",
    "version": 3
   },
   "file_extension": ".py",
   "mimetype": "text/x-python",
   "name": "python",
   "nbconvert_exporter": "python",
   "pygments_lexer": "ipython3",
   "version": "3.6.3"
  }
 },
 "nbformat": 4,
 "nbformat_minor": 2
}
